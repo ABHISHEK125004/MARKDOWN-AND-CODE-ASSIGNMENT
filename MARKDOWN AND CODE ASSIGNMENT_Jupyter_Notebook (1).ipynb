{
 "cells": [
  {
   "cell_type": "markdown",
   "metadata": {},
   "source": [
    "<center>\n",
    "    <img src=\"https://cf-courses-data.s3.us.cloud-object-storage.appdomain.cloud/IBMDeveloperSkillsNetwork-DS0105EN-SkillsNetwork/labs/Module2/images/SN_web_lightmode.png\" width=\"300\" alt=\"cognitiveclass.ai logo\">\n",
    "</center>\n"
   ]
  },
  {
   "cell_type": "markdown",
   "metadata": {},
   "source": [
    "#### Add your code below following the instructions given in the course\n"
   ]
  },
  {
   "cell_type": "markdown",
   "metadata": {},
   "source": [
    "## TITLE:MARKDOWN AND CODE ASSIGNMENT\n"
   ]
  },
  {
   "cell_type": "markdown",
   "metadata": {},
   "source": [
    "## Introduction:\n",
    "We have summarized Data Science Tools and Ecosystems in this notebook"
   ]
  },
  {
   "cell_type": "markdown",
   "metadata": {},
   "source": [
    "### Some of the popular languages that Data Scientists use are:\n",
    "1. Python\n",
    "2. JavaScript\n",
    "3. Scala\n",
    "4. R\n",
    "5. SQL\n",
    "6. Julia"
   ]
  },
  {
   "cell_type": "markdown",
   "metadata": {},
   "source": [
    "### Data Science Libraries :\n",
    "1.Scientific Computing Libraries: Pandas,Numpy\n",
    "2.Visualization Libraries: Matplotlib ,Seaborn\n",
    "3.Machine Learning and Deep Learning: Skikit-Learn, Keras"
   ]
  },
  {
   "cell_type": "markdown",
   "metadata": {},
   "source": [
    "### Three development environment open source tools used in data science are:\n",
    "|Data Science Tools|\n",
    "|------------------|\n",
    "|RStudio|\n",
    "|Apache Spark|\n",
    "|TensorFlow|"
   ]
  },
  {
   "cell_type": "markdown",
   "metadata": {},
   "source": [
    "### Below are examples of evaluating arithmetic expressions in Python:\n",
    "1. Addition: print(2+3)\n",
    "2. Subtraction: print(5-3)\n",
    "3. Multiplication: print(2*5)\n",
    "4. Division: print(9/3)"
   ]
  },
  {
   "cell_type": "code",
   "execution_count": 1,
   "metadata": {
    "tags": []
   },
   "outputs": [
    {
     "name": "stdout",
     "output_type": "stream",
     "text": [
      "Addition:  5\n",
      "Subtraction:  2\n",
      "Multiplication:  10\n",
      "Division:  3.0\n"
     ]
    }
   ],
   "source": [
    "print(\"Addition: \",(2+3))\n",
    "print(\"Subtraction: \",(5-3))\n",
    "print(\"Multiplication: \",(2*5))\n",
    "print(\"Division: \",(9/3))"
   ]
  },
  {
   "cell_type": "code",
   "execution_count": 2,
   "metadata": {
    "tags": []
   },
   "outputs": [
    {
     "name": "stdout",
     "output_type": "stream",
     "text": [
      "17\n"
     ]
    }
   ],
   "source": [
    "#Multiplying and adding two numbers:\n",
    "a= (3*4)+5\n",
    "print(a)"
   ]
  },
  {
   "cell_type": "code",
   "execution_count": 3,
   "metadata": {
    "tags": []
   },
   "outputs": [
    {
     "name": "stdout",
     "output_type": "stream",
     "text": [
      "100 minutes =  1.6666666666666667  hours\n"
     ]
    }
   ],
   "source": [
    "#This will convert 100 minutes to hours by diving by 60 since 1 hour has 60 minutes\n",
    "h=100/60\n",
    "print(\"100 minutes = \",h,\" hours\")"
   ]
  },
  {
   "cell_type": "markdown",
   "metadata": {},
   "source": [
    "*Objectives:*\n",
    "- Create and run Markdown cells and format the text by using different headers or bold or italic options\n",
    "- List popular languages used by Data Scientists using ordered lists\n",
    "- List common libraries used by Data Scientists using ordered lists\n",
    "- Create a table containing open source tools used in Data Science\n",
    "- Perform Python operations and execute them"
   ]
  },
  {
   "cell_type": "markdown",
   "metadata": {},
   "source": [
    "## Author\n",
    "ABHISHEK TRIPATHI"
   ]
  }
 ],
 "metadata": {
  "kernelspec": {
   "display_name": "Python",
   "language": "python",
   "name": "conda-env-python-py"
  },
  "language_info": {
   "codemirror_mode": {
    "name": "ipython",
    "version": 3
   },
   "file_extension": ".py",
   "mimetype": "text/x-python",
   "name": "python",
   "nbconvert_exporter": "python",
   "pygments_lexer": "ipython3",
   "version": "3.7.12"
  }
 },
 "nbformat": 4,
 "nbformat_minor": 4
}
